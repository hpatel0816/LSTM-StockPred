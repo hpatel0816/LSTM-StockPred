{
 "cells": [
  {
   "cell_type": "code",
   "execution_count": 3,
   "metadata": {},
   "outputs": [],
   "source": [
    "import numpy as np\n",
    "from tensorflow.keras.models import Sequential\n",
    "from tensorflow.keras.layers import LSTM\n",
    "from tensorflow.keras.layers import Dense, Dropout\n",
    "import pandas as pd\n",
    "from matplotlib import pyplot as plt\n",
    "from sklearn.preprocessing import StandardScaler\n",
    "import seaborn as sns"
   ]
  },
  {
   "cell_type": "code",
   "execution_count": 4,
   "metadata": {},
   "outputs": [
    {
     "data": {
      "text/html": [
       "<div>\n",
       "<style scoped>\n",
       "    .dataframe tbody tr th:only-of-type {\n",
       "        vertical-align: middle;\n",
       "    }\n",
       "\n",
       "    .dataframe tbody tr th {\n",
       "        vertical-align: top;\n",
       "    }\n",
       "\n",
       "    .dataframe thead th {\n",
       "        text-align: right;\n",
       "    }\n",
       "</style>\n",
       "<table border=\"1\" class=\"dataframe\">\n",
       "  <thead>\n",
       "    <tr style=\"text-align: right;\">\n",
       "      <th></th>\n",
       "      <th>Date</th>\n",
       "      <th>Open</th>\n",
       "      <th>High</th>\n",
       "      <th>Low</th>\n",
       "      <th>Close</th>\n",
       "      <th>Adj Close</th>\n",
       "      <th>Volume</th>\n",
       "    </tr>\n",
       "  </thead>\n",
       "  <tbody>\n",
       "    <tr>\n",
       "      <th>0</th>\n",
       "      <td>1980-12-12</td>\n",
       "      <td>0.128348</td>\n",
       "      <td>0.128906</td>\n",
       "      <td>0.128348</td>\n",
       "      <td>0.128348</td>\n",
       "      <td>0.099319</td>\n",
       "      <td>469033600</td>\n",
       "    </tr>\n",
       "    <tr>\n",
       "      <th>1</th>\n",
       "      <td>1980-12-15</td>\n",
       "      <td>0.122210</td>\n",
       "      <td>0.122210</td>\n",
       "      <td>0.121652</td>\n",
       "      <td>0.121652</td>\n",
       "      <td>0.094137</td>\n",
       "      <td>175884800</td>\n",
       "    </tr>\n",
       "    <tr>\n",
       "      <th>2</th>\n",
       "      <td>1980-12-16</td>\n",
       "      <td>0.113281</td>\n",
       "      <td>0.113281</td>\n",
       "      <td>0.112723</td>\n",
       "      <td>0.112723</td>\n",
       "      <td>0.087228</td>\n",
       "      <td>105728000</td>\n",
       "    </tr>\n",
       "    <tr>\n",
       "      <th>3</th>\n",
       "      <td>1980-12-17</td>\n",
       "      <td>0.115513</td>\n",
       "      <td>0.116071</td>\n",
       "      <td>0.115513</td>\n",
       "      <td>0.115513</td>\n",
       "      <td>0.089387</td>\n",
       "      <td>86441600</td>\n",
       "    </tr>\n",
       "    <tr>\n",
       "      <th>4</th>\n",
       "      <td>1980-12-18</td>\n",
       "      <td>0.118862</td>\n",
       "      <td>0.119420</td>\n",
       "      <td>0.118862</td>\n",
       "      <td>0.118862</td>\n",
       "      <td>0.091978</td>\n",
       "      <td>73449600</td>\n",
       "    </tr>\n",
       "  </tbody>\n",
       "</table>\n",
       "</div>"
      ],
      "text/plain": [
       "         Date      Open      High       Low     Close  Adj Close     Volume\n",
       "0  1980-12-12  0.128348  0.128906  0.128348  0.128348   0.099319  469033600\n",
       "1  1980-12-15  0.122210  0.122210  0.121652  0.121652   0.094137  175884800\n",
       "2  1980-12-16  0.113281  0.113281  0.112723  0.112723   0.087228  105728000\n",
       "3  1980-12-17  0.115513  0.116071  0.115513  0.115513   0.089387   86441600\n",
       "4  1980-12-18  0.118862  0.119420  0.118862  0.118862   0.091978   73449600"
      ]
     },
     "execution_count": 4,
     "metadata": {},
     "output_type": "execute_result"
    }
   ],
   "source": [
    "# Load the csv data\n",
    "df = pd.read_csv('data/AAPL.csv')\n",
    "df.head()"
   ]
  },
  {
   "cell_type": "code",
   "execution_count": 141,
   "metadata": {},
   "outputs": [
    {
     "name": "stdout",
     "output_type": "stream",
     "text": [
      "10824   2023-11-17\n",
      "10825   2023-11-20\n",
      "10826   2023-11-21\n",
      "10827   2023-11-22\n",
      "10828   2023-11-24\n",
      "10829   2023-11-27\n",
      "10830   2023-11-28\n",
      "10831   2023-11-29\n",
      "10832   2023-11-30\n",
      "10833   2023-12-01\n",
      "Name: Date, dtype: datetime64[ns]\n"
     ]
    }
   ],
   "source": [
    "# Separate & convert dates to datatime objects for future plotting\n",
    "train_dates = pd.to_datetime(df['Date'])\n",
    "print(train_dates.tail(10))"
   ]
  },
  {
   "cell_type": "code",
   "execution_count": 144,
   "metadata": {},
   "outputs": [
    {
     "data": {
      "text/html": [
       "<div>\n",
       "<style scoped>\n",
       "    .dataframe tbody tr th:only-of-type {\n",
       "        vertical-align: middle;\n",
       "    }\n",
       "\n",
       "    .dataframe tbody tr th {\n",
       "        vertical-align: top;\n",
       "    }\n",
       "\n",
       "    .dataframe thead th {\n",
       "        text-align: right;\n",
       "    }\n",
       "</style>\n",
       "<table border=\"1\" class=\"dataframe\">\n",
       "  <thead>\n",
       "    <tr style=\"text-align: right;\">\n",
       "      <th></th>\n",
       "      <th>Open</th>\n",
       "      <th>High</th>\n",
       "      <th>Low</th>\n",
       "      <th>Close</th>\n",
       "      <th>Adj Close</th>\n",
       "      <th>Volume</th>\n",
       "    </tr>\n",
       "  </thead>\n",
       "  <tbody>\n",
       "    <tr>\n",
       "      <th>0</th>\n",
       "      <td>0.128348</td>\n",
       "      <td>0.128906</td>\n",
       "      <td>0.128348</td>\n",
       "      <td>0.128348</td>\n",
       "      <td>0.099319</td>\n",
       "      <td>469033600.0</td>\n",
       "    </tr>\n",
       "    <tr>\n",
       "      <th>1</th>\n",
       "      <td>0.122210</td>\n",
       "      <td>0.122210</td>\n",
       "      <td>0.121652</td>\n",
       "      <td>0.121652</td>\n",
       "      <td>0.094137</td>\n",
       "      <td>175884800.0</td>\n",
       "    </tr>\n",
       "    <tr>\n",
       "      <th>2</th>\n",
       "      <td>0.113281</td>\n",
       "      <td>0.113281</td>\n",
       "      <td>0.112723</td>\n",
       "      <td>0.112723</td>\n",
       "      <td>0.087228</td>\n",
       "      <td>105728000.0</td>\n",
       "    </tr>\n",
       "    <tr>\n",
       "      <th>3</th>\n",
       "      <td>0.115513</td>\n",
       "      <td>0.116071</td>\n",
       "      <td>0.115513</td>\n",
       "      <td>0.115513</td>\n",
       "      <td>0.089387</td>\n",
       "      <td>86441600.0</td>\n",
       "    </tr>\n",
       "    <tr>\n",
       "      <th>4</th>\n",
       "      <td>0.118862</td>\n",
       "      <td>0.119420</td>\n",
       "      <td>0.118862</td>\n",
       "      <td>0.118862</td>\n",
       "      <td>0.091978</td>\n",
       "      <td>73449600.0</td>\n",
       "    </tr>\n",
       "    <tr>\n",
       "      <th>...</th>\n",
       "      <td>...</td>\n",
       "      <td>...</td>\n",
       "      <td>...</td>\n",
       "      <td>...</td>\n",
       "      <td>...</td>\n",
       "      <td>...</td>\n",
       "    </tr>\n",
       "    <tr>\n",
       "      <th>10829</th>\n",
       "      <td>189.919998</td>\n",
       "      <td>190.669998</td>\n",
       "      <td>188.899994</td>\n",
       "      <td>189.789993</td>\n",
       "      <td>189.789993</td>\n",
       "      <td>40552600.0</td>\n",
       "    </tr>\n",
       "    <tr>\n",
       "      <th>10830</th>\n",
       "      <td>189.779999</td>\n",
       "      <td>191.080002</td>\n",
       "      <td>189.399994</td>\n",
       "      <td>190.399994</td>\n",
       "      <td>190.399994</td>\n",
       "      <td>38415400.0</td>\n",
       "    </tr>\n",
       "    <tr>\n",
       "      <th>10831</th>\n",
       "      <td>190.899994</td>\n",
       "      <td>192.089996</td>\n",
       "      <td>188.970001</td>\n",
       "      <td>189.369995</td>\n",
       "      <td>189.369995</td>\n",
       "      <td>43014200.0</td>\n",
       "    </tr>\n",
       "    <tr>\n",
       "      <th>10832</th>\n",
       "      <td>189.839996</td>\n",
       "      <td>190.320007</td>\n",
       "      <td>188.190002</td>\n",
       "      <td>189.949997</td>\n",
       "      <td>189.949997</td>\n",
       "      <td>48794400.0</td>\n",
       "    </tr>\n",
       "    <tr>\n",
       "      <th>10833</th>\n",
       "      <td>190.330002</td>\n",
       "      <td>191.559998</td>\n",
       "      <td>189.229996</td>\n",
       "      <td>191.240005</td>\n",
       "      <td>191.240005</td>\n",
       "      <td>45679300.0</td>\n",
       "    </tr>\n",
       "  </tbody>\n",
       "</table>\n",
       "<p>10834 rows × 6 columns</p>\n",
       "</div>"
      ],
      "text/plain": [
       "             Open        High         Low       Close   Adj Close       Volume\n",
       "0        0.128348    0.128906    0.128348    0.128348    0.099319  469033600.0\n",
       "1        0.122210    0.122210    0.121652    0.121652    0.094137  175884800.0\n",
       "2        0.113281    0.113281    0.112723    0.112723    0.087228  105728000.0\n",
       "3        0.115513    0.116071    0.115513    0.115513    0.089387   86441600.0\n",
       "4        0.118862    0.119420    0.118862    0.118862    0.091978   73449600.0\n",
       "...           ...         ...         ...         ...         ...          ...\n",
       "10829  189.919998  190.669998  188.899994  189.789993  189.789993   40552600.0\n",
       "10830  189.779999  191.080002  189.399994  190.399994  190.399994   38415400.0\n",
       "10831  190.899994  192.089996  188.970001  189.369995  189.369995   43014200.0\n",
       "10832  189.839996  190.320007  188.190002  189.949997  189.949997   48794400.0\n",
       "10833  190.330002  191.559998  189.229996  191.240005  191.240005   45679300.0\n",
       "\n",
       "[10834 rows x 6 columns]"
      ]
     },
     "execution_count": 144,
     "metadata": {},
     "output_type": "execute_result"
    }
   ],
   "source": [
    "# Extract the variables for training\n",
    "data_cols = list(df)[1:7]\n",
    "training_df = df[data_cols].astype(float)\n",
    "training_df"
   ]
  },
  {
   "cell_type": "code",
   "execution_count": 145,
   "metadata": {},
   "outputs": [],
   "source": [
    "scaler = StandardScaler()\n",
    "scaler = scaler.fit(training_df)\n",
    "scaled_data_df = scaler.transform(training_df)"
   ]
  },
  {
   "cell_type": "code",
   "execution_count": 151,
   "metadata": {},
   "outputs": [
    {
     "name": "stdout",
     "output_type": "stream",
     "text": [
      "TrainX data shape: (10827, 7, 6)\n",
      "TrainY data shape: (10827, 1)\n"
     ]
    }
   ],
   "source": [
    "trainX, trainY = [], [] # Sets containing data used for prediction and the predicted values\n",
    "\n",
    "n_future = 1 # Number of days we want to predict future values\n",
    "n_past = 7 # Number of previous days we use to predict future values\n",
    "\n",
    "# Transform the data into its corresponding sets for the LSTM model\n",
    "for i in range(n_past, len(scaled_data_df) - n_future +1):\n",
    "    trainX.append(scaled_data_df[i - n_past:i, 0:training_df.shape[1]])\n",
    "    trainY.append(scaled_data_df[i + n_future - 1:i + n_future, 0])\n",
    "\n",
    "trainX, trainY = np.array(trainX), np.array(trainY) # Convert to numpy arrays\n",
    "\n",
    "print(f\"TrainX data shape: {trainX.shape}\")\n",
    "print(f\"TrainY data shape: {trainY.shape}\")\n"
   ]
  },
  {
   "cell_type": "code",
   "execution_count": 152,
   "metadata": {},
   "outputs": [
    {
     "name": "stdout",
     "output_type": "stream",
     "text": [
      "Model: \"sequential_32\"\n",
      "_________________________________________________________________\n",
      " Layer (type)                Output Shape              Param #   \n",
      "=================================================================\n",
      " lstm_63 (LSTM)              (None, 7, 64)             18176     \n",
      "                                                                 \n",
      " lstm_64 (LSTM)              (None, 32)                12416     \n",
      "                                                                 \n",
      " dropout_23 (Dropout)        (None, 32)                0         \n",
      "                                                                 \n",
      " dense_23 (Dense)            (None, 1)                 33        \n",
      "                                                                 \n",
      "=================================================================\n",
      "Total params: 30625 (119.63 KB)\n",
      "Trainable params: 30625 (119.63 KB)\n",
      "Non-trainable params: 0 (0.00 Byte)\n",
      "_________________________________________________________________\n"
     ]
    }
   ],
   "source": [
    "# Define the Autoencoder model\n",
    "model = Sequential()\n",
    "model.add(LSTM(64, activation='relu', input_shape=(trainX.shape[1], trainX.shape[2]), return_sequences=True))\n",
    "model.add(LSTM(32, activation='relu', return_sequences=False))\n",
    "model.add(Dropout(0.2))\n",
    "model.add(Dense(trainY.shape[1]))\n",
    "\n",
    "model.compile(optimizer='adam', loss='mse')\n",
    "model.summary()"
   ]
  },
  {
   "cell_type": "code",
   "execution_count": 153,
   "metadata": {},
   "outputs": [
    {
     "name": "stdout",
     "output_type": "stream",
     "text": [
      "Epoch 1/5\n"
     ]
    },
    {
     "name": "stdout",
     "output_type": "stream",
     "text": [
      "609/609 [==============================] - 4s 4ms/step - loss: 0.0073 - val_loss: 7.1957\n",
      "Epoch 2/5\n",
      "609/609 [==============================] - 2s 3ms/step - loss: 0.0033 - val_loss: 0.8130\n",
      "Epoch 3/5\n",
      "609/609 [==============================] - 2s 4ms/step - loss: 0.0030 - val_loss: 0.9452\n",
      "Epoch 4/5\n",
      "609/609 [==============================] - 2s 3ms/step - loss: 0.0030 - val_loss: 0.4162\n",
      "Epoch 5/5\n",
      "609/609 [==============================] - 2s 3ms/step - loss: 0.0031 - val_loss: 0.0829\n"
     ]
    },
    {
     "data": {
      "text/plain": [
       "<matplotlib.legend.Legend at 0x7f2c68a6a380>"
      ]
     },
     "execution_count": 153,
     "metadata": {},
     "output_type": "execute_result"
    },
    {
     "data": {
      "image/png": "[encoded data removed]",
      "text/plain": [
       "<Figure size 640x480 with 1 Axes>"
      ]
     },
     "metadata": {},
     "output_type": "display_data"
    }
   ],
   "source": [
    "# Fit the model\n",
    "history = model.fit(trainX, trainY, epochs=5, batch_size=16, validation_split=0.1, verbose=1)\n",
    "\n",
    "plt.plot(history.history['loss'], label='Training loss')\n",
    "plt.plot(history.history['val_loss'], label='Validation loss')\n",
    "plt.legend()\n"
   ]
  },
  {
   "cell_type": "code",
   "execution_count": 154,
   "metadata": {},
   "outputs": [
    {
     "name": "stdout",
     "output_type": "stream",
     "text": [
      "1/1 [==============================] - 0s 271ms/step\n"
     ]
    }
   ],
   "source": [
    "from pandas.tseries.holiday import USFederalHolidayCalendar\n",
    "from pandas.tseries.offsets import CustomBusinessDay\n",
    "\n",
    "# Extract the business days in the US only for predicting\n",
    "us_bd = CustomBusinessDay(calendar=USFederalHolidayCalendar())\n",
    "\n",
    "n_past = 16\n",
    "n_days_for_prediction = 15  # Predict for the past 15 days\n",
    "\n",
    "predict_period_dates = pd.date_range(list(train_dates)[-n_past], periods=n_days_for_prediction, freq=us_bd).tolist()\n",
    "\n",
    "# Make prediction\n",
    "prediction = model.predict(trainX[-n_days_for_prediction:])\n",
    "\n",
    "# Convert into the proper shape by copying the predict data 5x to perform inverse transform and retrive actual values\n",
    "prediction_copies = np.repeat(prediction, training_df.shape[1], axis=-1)\n",
    "y_pred_future = scaler.inverse_transform(prediction_copies)[:,0]"
   ]
  },
  {
   "cell_type": "code",
   "execution_count": 155,
   "metadata": {},
   "outputs": [
    {
     "name": "stderr",
     "output_type": "stream",
     "text": [
      "/tmp/ipykernel_1677/2832808251.py:10: SettingWithCopyWarning: \n",
      "A value is trying to be set on a copy of a slice from a DataFrame.\n",
      "Try using .loc[row_indexer,col_indexer] = value instead\n",
      "\n",
      "See the caveats in the documentation: https://pandas.pydata.org/pandas-docs/stable/user_guide/indexing.html#returning-a-view-versus-a-copy\n",
      "  original['Date']=pd.to_datetime(original['Date'])\n"
     ]
    },
    {
     "data": {
      "text/plain": [
       "<Axes: xlabel='Date', ylabel='Open'>"
      ]
     },
     "execution_count": 155,
     "metadata": {},
     "output_type": "execute_result"
    },
    {
     "data": {
      "image/png": "[encoded data removed]",
      "text/plain": [
       "<Figure size 640x480 with 1 Axes>"
      ]
     },
     "metadata": {},
     "output_type": "display_data"
    }
   ],
   "source": [
    "# Convert timestamp to date\n",
    "forecast_dates = []\n",
    "for time_i in predict_period_dates:\n",
    "    forecast_dates.append(time_i.date())\n",
    "    \n",
    "forecast_df = pd.DataFrame({'Date':np.array(forecast_dates), 'Predicted Open':y_pred_future})\n",
    "forecast_df['Date']=pd.to_datetime(forecast_df['Date'])\n",
    "\n",
    "original = df[['Date', 'Open']]\n",
    "original['Date']=pd.to_datetime(original['Date'])\n",
    "original = original.loc[original['Date'] >= '2023-5-1']\n",
    "\n",
    "plot_data = pd.concat([original[['Date', 'Open']], forecast_df[['Date', 'Predicted Open']]])\n",
    "\n",
    "# Create a line plot using the concatenated data\n",
    "sns.lineplot(x='Date', y='Open', data=plot_data, label='Original Open')\n",
    "sns.lineplot(x='Date', y='Predicted Open', data=plot_data, label='Predicted Open')"
   ]
  }
 ],
 "metadata": {
  "kernelspec": {
   "display_name": "Python 3.11.6 ('.venv': venv)",
   "language": "python",
   "name": "python3"
  },
  "language_info": {
   "codemirror_mode": {
    "name": "ipython",
    "version": 3
   },
   "file_extension": ".py",
   "mimetype": "text/x-python",
   "name": "python",
   "nbconvert_exporter": "python",
   "pygments_lexer": "ipython3",
   "version": "3.10.13"
  },
  "orig_nbformat": 4,
  "vscode": {
   "interpreter": {
    "hash": "9fad12151dc60f92dc5437ce2f368d599fd94d462b66cce7efffd9dae0ccc887"
   }
  }
 },
 "nbformat": 4,
 "nbformat_minor": 2
}
