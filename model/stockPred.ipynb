{
 "cells": [
  {
   "cell_type": "markdown",
   "metadata": {},
   "source": [
    "# This notebook is for experimenting with the model configuration. Refer to predictions.py to view the actual code for the REST API"
   ]
  },
  {
   "cell_type": "code",
   "execution_count": 135,
   "metadata": {},
   "outputs": [],
   "source": [
    "import numpy as np\n",
    "from tensorflow.keras.models import Sequential\n",
    "from tensorflow.keras.layers import LSTM, Dense, Dropout\n",
    "from tensorflow.keras.optimizers import Adam, SGD\n",
    "import pandas as pd\n",
    "from matplotlib import pyplot as plt\n",
    "from sklearn.preprocessing import StandardScaler\n",
    "import seaborn as sns"
   ]
  },
  {
   "cell_type": "code",
   "execution_count": 136,
   "metadata": {},
   "outputs": [
    {
     "data": {
      "text/html": [
       "<div>\n",
       "<style scoped>\n",
       "    .dataframe tbody tr th:only-of-type {\n",
       "        vertical-align: middle;\n",
       "    }\n",
       "\n",
       "    .dataframe tbody tr th {\n",
       "        vertical-align: top;\n",
       "    }\n",
       "\n",
       "    .dataframe thead th {\n",
       "        text-align: right;\n",
       "    }\n",
       "</style>\n",
       "<table border=\"1\" class=\"dataframe\">\n",
       "  <thead>\n",
       "    <tr style=\"text-align: right;\">\n",
       "      <th></th>\n",
       "      <th>Date</th>\n",
       "      <th>Open</th>\n",
       "      <th>High</th>\n",
       "      <th>Low</th>\n",
       "      <th>Close</th>\n",
       "      <th>Adj Close</th>\n",
       "      <th>Volume</th>\n",
       "      <th>Mean</th>\n",
       "      <th>Max</th>\n",
       "      <th>Min</th>\n",
       "    </tr>\n",
       "  </thead>\n",
       "  <tbody>\n",
       "    <tr>\n",
       "      <th>751</th>\n",
       "      <td>2022-12-23</td>\n",
       "      <td>83.250000</td>\n",
       "      <td>85.779999</td>\n",
       "      <td>82.930000</td>\n",
       "      <td>85.250000</td>\n",
       "      <td>85.250000</td>\n",
       "      <td>57433700</td>\n",
       "      <td>0.1779</td>\n",
       "      <td>0.7351</td>\n",
       "      <td>-0.3818</td>\n",
       "    </tr>\n",
       "    <tr>\n",
       "      <th>752</th>\n",
       "      <td>2022-12-27</td>\n",
       "      <td>84.970001</td>\n",
       "      <td>85.349998</td>\n",
       "      <td>83.000000</td>\n",
       "      <td>83.040001</td>\n",
       "      <td>83.040001</td>\n",
       "      <td>57284000</td>\n",
       "      <td>0.1677</td>\n",
       "      <td>0.7845</td>\n",
       "      <td>-0.2782</td>\n",
       "    </tr>\n",
       "    <tr>\n",
       "      <th>753</th>\n",
       "      <td>2022-12-28</td>\n",
       "      <td>82.800003</td>\n",
       "      <td>83.480003</td>\n",
       "      <td>81.690002</td>\n",
       "      <td>81.820000</td>\n",
       "      <td>81.820000</td>\n",
       "      <td>58228600</td>\n",
       "      <td>0.1908</td>\n",
       "      <td>0.6124</td>\n",
       "      <td>-0.2960</td>\n",
       "    </tr>\n",
       "    <tr>\n",
       "      <th>754</th>\n",
       "      <td>2022-12-29</td>\n",
       "      <td>82.870003</td>\n",
       "      <td>84.550003</td>\n",
       "      <td>82.550003</td>\n",
       "      <td>84.180000</td>\n",
       "      <td>84.180000</td>\n",
       "      <td>54995900</td>\n",
       "      <td>0.2225</td>\n",
       "      <td>0.8111</td>\n",
       "      <td>-0.5994</td>\n",
       "    </tr>\n",
       "    <tr>\n",
       "      <th>755</th>\n",
       "      <td>2022-12-30</td>\n",
       "      <td>83.120003</td>\n",
       "      <td>84.050003</td>\n",
       "      <td>82.470001</td>\n",
       "      <td>84.000000</td>\n",
       "      <td>84.000000</td>\n",
       "      <td>62401200</td>\n",
       "      <td>0.1447</td>\n",
       "      <td>0.7096</td>\n",
       "      <td>-0.7184</td>\n",
       "    </tr>\n",
       "  </tbody>\n",
       "</table>\n",
       "</div>"
      ],
      "text/plain": [
       "           Date       Open       High        Low      Close  Adj Close  \\\n",
       "751  2022-12-23  83.250000  85.779999  82.930000  85.250000  85.250000   \n",
       "752  2022-12-27  84.970001  85.349998  83.000000  83.040001  83.040001   \n",
       "753  2022-12-28  82.800003  83.480003  81.690002  81.820000  81.820000   \n",
       "754  2022-12-29  82.870003  84.550003  82.550003  84.180000  84.180000   \n",
       "755  2022-12-30  83.120003  84.050003  82.470001  84.000000  84.000000   \n",
       "\n",
       "       Volume    Mean     Max     Min  \n",
       "751  57433700  0.1779  0.7351 -0.3818  \n",
       "752  57284000  0.1677  0.7845 -0.2782  \n",
       "753  58228600  0.1908  0.6124 -0.2960  \n",
       "754  54995900  0.2225  0.8111 -0.5994  \n",
       "755  62401200  0.1447  0.7096 -0.7184  "
      ]
     },
     "execution_count": 136,
     "metadata": {},
     "output_type": "execute_result"
    }
   ],
   "source": [
    "# Load the csv data\n",
    "df = pd.read_csv('data/AMZN.csv')\n",
    "df.tail()"
   ]
  },
  {
   "cell_type": "code",
   "execution_count": 137,
   "metadata": {},
   "outputs": [
    {
     "name": "stdout",
     "output_type": "stream",
     "text": [
      "0   2020-01-02\n",
      "1   2020-01-03\n",
      "2   2020-01-06\n",
      "3   2020-01-07\n",
      "4   2020-01-08\n",
      "5   2020-01-09\n",
      "6   2020-01-10\n",
      "7   2020-01-13\n",
      "8   2020-01-14\n",
      "9   2020-01-15\n",
      "Name: Date, dtype: datetime64[ns]\n"
     ]
    }
   ],
   "source": [
    "# Separate & convert dates to datatime objects for future plotting\n",
    "train_dates = pd.to_datetime(df['Date'])\n",
    "print(train_dates.head(10))"
   ]
  },
  {
   "cell_type": "code",
   "execution_count": 138,
   "metadata": {},
   "outputs": [
    {
     "data": {
      "text/html": [
       "<div>\n",
       "<style scoped>\n",
       "    .dataframe tbody tr th:only-of-type {\n",
       "        vertical-align: middle;\n",
       "    }\n",
       "\n",
       "    .dataframe tbody tr th {\n",
       "        vertical-align: top;\n",
       "    }\n",
       "\n",
       "    .dataframe thead th {\n",
       "        text-align: right;\n",
       "    }\n",
       "</style>\n",
       "<table border=\"1\" class=\"dataframe\">\n",
       "  <thead>\n",
       "    <tr style=\"text-align: right;\">\n",
       "      <th></th>\n",
       "      <th>Open</th>\n",
       "      <th>Close</th>\n",
       "      <th>Mean</th>\n",
       "      <th>Max</th>\n",
       "      <th>Min</th>\n",
       "    </tr>\n",
       "  </thead>\n",
       "  <tbody>\n",
       "    <tr>\n",
       "      <th>0</th>\n",
       "      <td>93.750000</td>\n",
       "      <td>94.900497</td>\n",
       "      <td>0.0000</td>\n",
       "      <td>0.0000</td>\n",
       "      <td>0.0000</td>\n",
       "    </tr>\n",
       "    <tr>\n",
       "      <th>1</th>\n",
       "      <td>93.224998</td>\n",
       "      <td>93.748497</td>\n",
       "      <td>0.0000</td>\n",
       "      <td>0.0000</td>\n",
       "      <td>0.0000</td>\n",
       "    </tr>\n",
       "    <tr>\n",
       "      <th>2</th>\n",
       "      <td>93.000000</td>\n",
       "      <td>95.143997</td>\n",
       "      <td>0.7096</td>\n",
       "      <td>0.7096</td>\n",
       "      <td>0.7096</td>\n",
       "    </tr>\n",
       "    <tr>\n",
       "      <th>3</th>\n",
       "      <td>95.224998</td>\n",
       "      <td>95.343002</td>\n",
       "      <td>-0.7717</td>\n",
       "      <td>-0.7717</td>\n",
       "      <td>-0.7717</td>\n",
       "    </tr>\n",
       "    <tr>\n",
       "      <th>4</th>\n",
       "      <td>94.902000</td>\n",
       "      <td>94.598503</td>\n",
       "      <td>0.0000</td>\n",
       "      <td>0.0000</td>\n",
       "      <td>0.0000</td>\n",
       "    </tr>\n",
       "    <tr>\n",
       "      <th>...</th>\n",
       "      <td>...</td>\n",
       "      <td>...</td>\n",
       "      <td>...</td>\n",
       "      <td>...</td>\n",
       "      <td>...</td>\n",
       "    </tr>\n",
       "    <tr>\n",
       "      <th>751</th>\n",
       "      <td>83.250000</td>\n",
       "      <td>85.250000</td>\n",
       "      <td>0.1779</td>\n",
       "      <td>0.7351</td>\n",
       "      <td>-0.3818</td>\n",
       "    </tr>\n",
       "    <tr>\n",
       "      <th>752</th>\n",
       "      <td>84.970001</td>\n",
       "      <td>83.040001</td>\n",
       "      <td>0.1677</td>\n",
       "      <td>0.7845</td>\n",
       "      <td>-0.2782</td>\n",
       "    </tr>\n",
       "    <tr>\n",
       "      <th>753</th>\n",
       "      <td>82.800003</td>\n",
       "      <td>81.820000</td>\n",
       "      <td>0.1908</td>\n",
       "      <td>0.6124</td>\n",
       "      <td>-0.2960</td>\n",
       "    </tr>\n",
       "    <tr>\n",
       "      <th>754</th>\n",
       "      <td>82.870003</td>\n",
       "      <td>84.180000</td>\n",
       "      <td>0.2225</td>\n",
       "      <td>0.8111</td>\n",
       "      <td>-0.5994</td>\n",
       "    </tr>\n",
       "    <tr>\n",
       "      <th>755</th>\n",
       "      <td>83.120003</td>\n",
       "      <td>84.000000</td>\n",
       "      <td>0.1447</td>\n",
       "      <td>0.7096</td>\n",
       "      <td>-0.7184</td>\n",
       "    </tr>\n",
       "  </tbody>\n",
       "</table>\n",
       "<p>756 rows × 5 columns</p>\n",
       "</div>"
      ],
      "text/plain": [
       "          Open      Close    Mean     Max     Min\n",
       "0    93.750000  94.900497  0.0000  0.0000  0.0000\n",
       "1    93.224998  93.748497  0.0000  0.0000  0.0000\n",
       "2    93.000000  95.143997  0.7096  0.7096  0.7096\n",
       "3    95.224998  95.343002 -0.7717 -0.7717 -0.7717\n",
       "4    94.902000  94.598503  0.0000  0.0000  0.0000\n",
       "..         ...        ...     ...     ...     ...\n",
       "751  83.250000  85.250000  0.1779  0.7351 -0.3818\n",
       "752  84.970001  83.040001  0.1677  0.7845 -0.2782\n",
       "753  82.800003  81.820000  0.1908  0.6124 -0.2960\n",
       "754  82.870003  84.180000  0.2225  0.8111 -0.5994\n",
       "755  83.120003  84.000000  0.1447  0.7096 -0.7184\n",
       "\n",
       "[756 rows x 5 columns]"
      ]
     },
     "execution_count": 138,
     "metadata": {},
     "output_type": "execute_result"
    }
   ],
   "source": [
    "# Extract the variables for training\n",
    "data_cols = df[['Open', 'Close', 'Mean', 'Max', 'Min']]\n",
    "training_df = data_cols.astype(float)\n",
    "training_df"
   ]
  },
  {
   "cell_type": "code",
   "execution_count": 139,
   "metadata": {},
   "outputs": [],
   "source": [
    "scaler = StandardScaler()\n",
    "scaler = scaler.fit(training_df)\n",
    "scaled_data_df = scaler.transform(training_df)"
   ]
  },
  {
   "cell_type": "code",
   "execution_count": 195,
   "metadata": {},
   "outputs": [
    {
     "name": "stdout",
     "output_type": "stream",
     "text": [
      "TrainX data shape: (746, 10, 5)\n",
      "TrainY data shape: (746, 1)\n"
     ]
    }
   ],
   "source": [
    "trainX, trainY = [], [] # Sets containing data used for prediction and the predicted values\n",
    "\n",
    "n_future = 1 # Number of days we want to predict future values\n",
    "n_past = 10 # Number of previous days we use to predict future values\n",
    "\n",
    "# Transform the data into its corresponding sets for the LSTM model\n",
    "for i in range(n_past, len(scaled_data_df) - n_future +1):\n",
    "    trainX.append(scaled_data_df[i - n_past:i, 0:training_df.shape[1]])\n",
    "    trainY.append(scaled_data_df[i + n_future - 1:i + n_future, 0])\n",
    "\n",
    "trainX, trainY = np.array(trainX), np.array(trainY) # Convert to numpy arrays\n",
    "\n",
    "print(f\"TrainX data shape: {trainX.shape}\")\n",
    "print(f\"TrainY data shape: {trainY.shape}\")\n"
   ]
  },
  {
   "cell_type": "code",
   "execution_count": 200,
   "metadata": {},
   "outputs": [
    {
     "name": "stdout",
     "output_type": "stream",
     "text": [
      "Model: \"sequential_37\"\n",
      "_________________________________________________________________\n",
      " Layer (type)                Output Shape              Param #   \n",
      "=================================================================\n",
      " lstm_74 (LSTM)              (None, 10, 64)            17920     \n",
      "                                                                 \n",
      " lstm_75 (LSTM)              (None, 32)                12416     \n",
      "                                                                 \n",
      " dropout_37 (Dropout)        (None, 32)                0         \n",
      "                                                                 \n",
      " dense_37 (Dense)            (None, 1)                 33        \n",
      "                                                                 \n",
      "=================================================================\n",
      "Total params: 30369 (118.63 KB)\n",
      "Trainable params: 30369 (118.63 KB)\n",
      "Non-trainable params: 0 (0.00 Byte)\n",
      "_________________________________________________________________\n"
     ]
    }
   ],
   "source": [
    "# Define the Autoencoder model\n",
    "model = Sequential()\n",
    "model.add(LSTM(64, activation='relu', input_shape=(trainX.shape[1], trainX.shape[2]), return_sequences=True))\n",
    "model.add(LSTM(32, activation='relu', return_sequences=False))\n",
    "model.add(Dropout(0.3))\n",
    "model.add(Dense(trainY.shape[1]))\n",
    "\n",
    "model.compile(optimizer='adam', loss='mse')\n",
    "model.summary()"
   ]
  },
  {
   "cell_type": "code",
   "execution_count": 201,
   "metadata": {},
   "outputs": [
    {
     "name": "stdout",
     "output_type": "stream",
     "text": [
      "Epoch 1/60\n",
      "21/21 [==============================] - 1s 17ms/step - loss: 0.4332 - val_loss: 0.7309\n",
      "Epoch 2/60\n",
      "21/21 [==============================] - 0s 6ms/step - loss: 0.1214 - val_loss: 0.1766\n",
      "Epoch 3/60\n",
      "21/21 [==============================] - 0s 6ms/step - loss: 0.0849 - val_loss: 0.0594\n",
      "Epoch 4/60\n",
      "21/21 [==============================] - 0s 6ms/step - loss: 0.0846 - val_loss: 0.0918\n",
      "Epoch 5/60\n",
      "21/21 [==============================] - 0s 7ms/step - loss: 0.0705 - val_loss: 0.1000\n",
      "Epoch 6/60\n",
      "21/21 [==============================] - 0s 7ms/step - loss: 0.0701 - val_loss: 0.1073\n",
      "Epoch 7/60\n",
      "21/21 [==============================] - 0s 7ms/step - loss: 0.0565 - val_loss: 0.1040\n",
      "Epoch 8/60\n",
      "21/21 [==============================] - 0s 7ms/step - loss: 0.0517 - val_loss: 0.1354\n",
      "Epoch 9/60\n",
      "21/21 [==============================] - 0s 7ms/step - loss: 0.0509 - val_loss: 0.0886\n",
      "Epoch 10/60\n",
      "21/21 [==============================] - 0s 7ms/step - loss: 0.0526 - val_loss: 0.0458\n",
      "Epoch 11/60\n",
      "21/21 [==============================] - 0s 7ms/step - loss: 0.0499 - val_loss: 0.0562\n",
      "Epoch 12/60\n",
      "21/21 [==============================] - 0s 7ms/step - loss: 0.0467 - val_loss: 0.0830\n",
      "Epoch 13/60\n",
      "21/21 [==============================] - 0s 7ms/step - loss: 0.0439 - val_loss: 0.0410\n",
      "Epoch 14/60\n",
      "21/21 [==============================] - 0s 7ms/step - loss: 0.0420 - val_loss: 0.0783\n",
      "Epoch 15/60\n",
      "21/21 [==============================] - 0s 7ms/step - loss: 0.0409 - val_loss: 0.0666\n",
      "Epoch 16/60\n",
      "21/21 [==============================] - 0s 7ms/step - loss: 0.0421 - val_loss: 0.0587\n",
      "Epoch 17/60\n",
      "21/21 [==============================] - 0s 7ms/step - loss: 0.0408 - val_loss: 0.0212\n",
      "Epoch 18/60\n",
      "21/21 [==============================] - 0s 7ms/step - loss: 0.0358 - val_loss: 0.0221\n",
      "Epoch 19/60\n",
      "21/21 [==============================] - 0s 7ms/step - loss: 0.0375 - val_loss: 0.0353\n",
      "Epoch 20/60\n",
      "21/21 [==============================] - 0s 7ms/step - loss: 0.0360 - val_loss: 0.0930\n",
      "Epoch 21/60\n",
      "21/21 [==============================] - 0s 7ms/step - loss: 0.0378 - val_loss: 0.0806\n",
      "Epoch 22/60\n",
      "21/21 [==============================] - 0s 7ms/step - loss: 0.0352 - val_loss: 0.0839\n",
      "Epoch 23/60\n",
      "21/21 [==============================] - 0s 7ms/step - loss: 0.0389 - val_loss: 0.0989\n",
      "Epoch 24/60\n",
      "21/21 [==============================] - 0s 6ms/step - loss: 0.0388 - val_loss: 0.0641\n",
      "Epoch 25/60\n",
      "21/21 [==============================] - 0s 7ms/step - loss: 0.0352 - val_loss: 0.1403\n",
      "Epoch 26/60\n",
      "21/21 [==============================] - 0s 7ms/step - loss: 0.0311 - val_loss: 0.0666\n",
      "Epoch 27/60\n",
      "21/21 [==============================] - 0s 7ms/step - loss: 0.0352 - val_loss: 0.0813\n",
      "Epoch 28/60\n",
      "21/21 [==============================] - 0s 6ms/step - loss: 0.0345 - val_loss: 0.0637\n",
      "Epoch 29/60\n",
      "21/21 [==============================] - 0s 6ms/step - loss: 0.0307 - val_loss: 0.0175\n",
      "Epoch 30/60\n",
      "21/21 [==============================] - 0s 6ms/step - loss: 0.0323 - val_loss: 0.1347\n",
      "Epoch 31/60\n",
      "21/21 [==============================] - 0s 7ms/step - loss: 0.0307 - val_loss: 0.0933\n",
      "Epoch 32/60\n",
      "21/21 [==============================] - 0s 7ms/step - loss: 0.0341 - val_loss: 0.0856\n",
      "Epoch 33/60\n",
      "21/21 [==============================] - 0s 7ms/step - loss: 0.0286 - val_loss: 0.0597\n",
      "Epoch 34/60\n",
      "21/21 [==============================] - 0s 7ms/step - loss: 0.0285 - val_loss: 0.0486\n",
      "Epoch 35/60\n",
      "21/21 [==============================] - 0s 7ms/step - loss: 0.0277 - val_loss: 0.0289\n",
      "Epoch 36/60\n",
      "21/21 [==============================] - 0s 6ms/step - loss: 0.0278 - val_loss: 0.0231\n",
      "Epoch 37/60\n",
      "21/21 [==============================] - 0s 7ms/step - loss: 0.0290 - val_loss: 0.0310\n",
      "Epoch 38/60\n",
      "21/21 [==============================] - 0s 6ms/step - loss: 0.0252 - val_loss: 0.0168\n",
      "Epoch 39/60\n",
      "21/21 [==============================] - 0s 7ms/step - loss: 0.0257 - val_loss: 0.0206\n",
      "Epoch 40/60\n",
      "21/21 [==============================] - 0s 6ms/step - loss: 0.0327 - val_loss: 0.0168\n",
      "Epoch 41/60\n",
      "21/21 [==============================] - 0s 7ms/step - loss: 0.0288 - val_loss: 0.0479\n",
      "Epoch 42/60\n",
      "21/21 [==============================] - 0s 6ms/step - loss: 0.0303 - val_loss: 0.0349\n",
      "Epoch 43/60\n",
      "21/21 [==============================] - 0s 6ms/step - loss: 0.0303 - val_loss: 0.0131\n",
      "Epoch 44/60\n",
      "21/21 [==============================] - 0s 7ms/step - loss: 0.0296 - val_loss: 0.0167\n",
      "Epoch 45/60\n",
      "21/21 [==============================] - 0s 7ms/step - loss: 0.0254 - val_loss: 0.0280\n",
      "Epoch 46/60\n",
      "21/21 [==============================] - 0s 7ms/step - loss: 0.0291 - val_loss: 0.0290\n",
      "Epoch 47/60\n",
      "21/21 [==============================] - 0s 7ms/step - loss: 0.0264 - val_loss: 0.0560\n",
      "Epoch 48/60\n",
      "21/21 [==============================] - 0s 7ms/step - loss: 0.0265 - val_loss: 0.0465\n",
      "Epoch 49/60\n",
      "21/21 [==============================] - 0s 7ms/step - loss: 0.0254 - val_loss: 0.0427\n",
      "Epoch 50/60\n",
      "21/21 [==============================] - 0s 7ms/step - loss: 0.0271 - val_loss: 0.0263\n",
      "Epoch 51/60\n",
      "21/21 [==============================] - 0s 7ms/step - loss: 0.0279 - val_loss: 0.0144\n",
      "Epoch 52/60\n",
      "21/21 [==============================] - 0s 7ms/step - loss: 0.0248 - val_loss: 0.0216\n",
      "Epoch 53/60\n",
      "21/21 [==============================] - 0s 7ms/step - loss: 0.0256 - val_loss: 0.0277\n",
      "Epoch 54/60\n",
      "21/21 [==============================] - 0s 7ms/step - loss: 0.0279 - val_loss: 0.0360\n",
      "Epoch 55/60\n",
      "21/21 [==============================] - 0s 7ms/step - loss: 0.0289 - val_loss: 0.0175\n",
      "Epoch 56/60\n",
      "21/21 [==============================] - 0s 7ms/step - loss: 0.0283 - val_loss: 0.0300\n",
      "Epoch 57/60\n",
      "21/21 [==============================] - 0s 7ms/step - loss: 0.0287 - val_loss: 0.0303\n",
      "Epoch 58/60\n",
      "21/21 [==============================] - 0s 6ms/step - loss: 0.0253 - val_loss: 0.0129\n",
      "Epoch 59/60\n",
      "21/21 [==============================] - 0s 7ms/step - loss: 0.0240 - val_loss: 0.0132\n",
      "Epoch 60/60\n",
      "21/21 [==============================] - 0s 7ms/step - loss: 0.0236 - val_loss: 0.0151\n"
     ]
    },
    {
     "data": {
      "text/plain": [
       "<matplotlib.legend.Legend at 0x2fb9c5590>"
      ]
     },
     "execution_count": 201,
     "metadata": {},
     "output_type": "execute_result"
    },
    {
     "data": {
      "image/png": "[encoded data removed]",
      "text/plain": [
       "<Figure size 640x480 with 1 Axes>"
      ]
     },
     "metadata": {},
     "output_type": "display_data"
    }
   ],
   "source": [
    "# Fit the model\n",
    "history = model.fit(trainX, trainY, epochs=60, batch_size=32, validation_split=0.1, verbose=1)\n",
    "\n",
    "plt.plot(history.history['loss'], label='Training loss')\n",
    "plt.plot(history.history['val_loss'], label='Validation loss')\n",
    "plt.legend()\n"
   ]
  },
  {
   "cell_type": "code",
   "execution_count": 202,
   "metadata": {},
   "outputs": [
    {
     "name": "stdout",
     "output_type": "stream",
     "text": [
      "1/1 [==============================] - 0s 174ms/step\n"
     ]
    },
    {
     "data": {
      "text/plain": [
       "array([87.3862  , 87.381424, 89.15364 , 90.81048 , 87.9645  , 85.99318 ,\n",
       "       84.07797 , 82.892105, 82.608116, 83.561356, 80.32538 , 79.39623 ,\n",
       "       79.19056 , 76.98349 , 79.77963 ], dtype=float32)"
      ]
     },
     "execution_count": 202,
     "metadata": {},
     "output_type": "execute_result"
    }
   ],
   "source": [
    "from pandas.tseries.holiday import USFederalHolidayCalendar\n",
    "from pandas.tseries.offsets import CustomBusinessDay\n",
    "\n",
    "# Extract the business days in the US only for predicting\n",
    "us_bd = CustomBusinessDay(calendar=USFederalHolidayCalendar())\n",
    "\n",
    "n_past_days = 16\n",
    "n_days_for_prediction = 15  # Predict for the past 15 days\n",
    "\n",
    "predict_period_dates = pd.date_range(list(train_dates)[-n_past], periods=n_days_for_prediction, freq=us_bd).tolist()\n",
    "predict_period_dates\n",
    "\n",
    "# Make prediction\n",
    "prediction = model.predict(trainX[-n_days_for_prediction:])\n",
    "\n",
    "# Convert into the proper shape by copying the predict data 5x to perform inverse transform and retrive actual values\n",
    "prediction_copies = np.repeat(prediction, training_df.shape[1], axis=-1)\n",
    "y_pred_future = scaler.inverse_transform(prediction_copies)[:,0]\n",
    "y_pred_future"
   ]
  },
  {
   "cell_type": "code",
   "execution_count": 203,
   "metadata": {},
   "outputs": [
    {
     "data": {
      "text/plain": [
       "<Axes: xlabel='Date', ylabel='Open'>"
      ]
     },
     "execution_count": 203,
     "metadata": {},
     "output_type": "execute_result"
    },
    {
     "data": {
      "image/png": "[encoded data removed]",
      "text/plain": [
       "<Figure size 640x480 with 1 Axes>"
      ]
     },
     "metadata": {},
     "output_type": "display_data"
    }
   ],
   "source": [
    "# Convert timestamp to date\n",
    "forecast_dates = [time_i.date() for time_i in predict_period_dates]\n",
    "\n",
    "forecast_df = pd.DataFrame({'Date': np.array(forecast_dates), 'Predicted Open': y_pred_future})\n",
    "forecast_df['Date'] = pd.to_datetime(forecast_df['Date'])\n",
    "\n",
    "original = df[['Date', 'Open']].copy()\n",
    "original['Date'] = pd.to_datetime(original['Date'])\n",
    "original = original.loc[original['Date'] >= '2022-08-01']\n",
    "\n",
    "plot_data = pd.concat([original[['Date', 'Open']], forecast_df[['Date', 'Predicted Open']]])\n",
    "\n",
    "# Create a line plot using the concatenated data\n",
    "sns.lineplot(x='Date', y='Open', data=plot_data, label='Original Open')\n",
    "sns.lineplot(x='Date', y='Predicted Open', data=plot_data, label='Predicted Open')"
   ]
  }
 ],
 "metadata": {
  "kernelspec": {
   "display_name": "Python 3.11.6 ('.venv': venv)",
   "language": "python",
   "name": "python3"
  },
  "language_info": {
   "codemirror_mode": {
    "name": "ipython",
    "version": 3
   },
   "file_extension": ".py",
   "mimetype": "text/x-python",
   "name": "python",
   "nbconvert_exporter": "python",
   "pygments_lexer": "ipython3",
   "version": "3.11.6"
  },
  "orig_nbformat": 4,
  "vscode": {
   "interpreter": {
    "hash": "9fad12151dc60f92dc5437ce2f368d599fd94d462b66cce7efffd9dae0ccc887"
   }
  }
 },
 "nbformat": 4,
 "nbformat_minor": 2
}
